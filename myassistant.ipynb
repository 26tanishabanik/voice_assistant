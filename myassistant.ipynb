{
 "cells": [
  {
   "cell_type": "code",
   "execution_count": null,
   "metadata": {},
   "outputs": [],
   "source": [
    "pip install speechrecognition"
   ]
  },
  {
   "cell_type": "code",
   "execution_count": null,
   "metadata": {},
   "outputs": [],
   "source": [
    "pip install pyaudio"
   ]
  },
  {
   "cell_type": "code",
   "execution_count": null,
   "metadata": {},
   "outputs": [],
   "source": [
    "import speech_recognition as sr\n",
    "from time import ctime\n",
    "import webbrowser\n",
    "import time\n",
    "import playsound\n",
    "import os\n",
    "from gtts import gTTS\n",
    "import random\n",
    "import pyttsx3 "
   ]
  },
  {
   "cell_type": "code",
   "execution_count": null,
   "metadata": {},
   "outputs": [],
   "source": [
    "r = sr.Recognizer()\n",
    "converter = pyttsx3.init() "
   ]
  },
  {
   "cell_type": "code",
   "execution_count": null,
   "metadata": {},
   "outputs": [],
   "source": [
    "#def record_audio(ask=False):\n",
    "#     with sr.Microphone() as source:\n",
    "#         #print(\"Hi!\")\n",
    "#         if(ask):\n",
    "#             assist_speech(ask)\n",
    "#         r.adjust_for_ambient_noise(source)\n",
    "#         print(\"Listening...\")\n",
    "#         audio = r.listen(source, 5, 5)\n",
    "#         #print('Done listening')\n",
    "#         voice_data = ''\n",
    "#         try:\n",
    "#             voice_data = r.recognize_google(audio)\n",
    "#             #print(voice_data)\n",
    "#         except sr.UnknownValueError:\n",
    "#             assist_speech(\"Oops! I did not get you\")\n",
    "#         except sr.RequestError:\n",
    "#             assist_speech(\"Oops! my speech service is down\")\n",
    "#         return voice_data\n",
    "def record_audio(ask=False):\n",
    "    voice_data = ''\n",
    "    if(ask):\n",
    "        assist_speech(ask)\n",
    "    data = input(voice_data)\n",
    "    converter.setProperty('rate', 150) \n",
    "    converter.setProperty('volume', 0.7) \n",
    "    converter.say(data) \n",
    "    converter.runAndWait() \n",
    "#     print(data)\n",
    "#     while data != \"Bye\":\n",
    "#         data = input(voice_data)\n",
    "#         if voice_data == \"Bye\":\n",
    "#             break\n",
    "    return data"
   ]
  },
  {
   "cell_type": "code",
   "execution_count": null,
   "metadata": {},
   "outputs": [],
   "source": [
    "def assist_speech(audio_string):\n",
    "    audio_string = str(audio_string)\n",
    "    tts = gTTS(text = audio_string, lang = 'en')\n",
    "    r =  random.randint(1, 10000000)\n",
    "    audio_file = 'audio-' + str(r) + '.mp3'\n",
    "    tts.save(audio_file)\n",
    "    playsound.playsound(audio_file)\n",
    "    print(audio_string)\n",
    "    os.remove(audio_file)"
   ]
  },
  {
   "cell_type": "code",
   "execution_count": null,
   "metadata": {},
   "outputs": [],
   "source": [
    "def respond(voice_data):\n",
    "    if \"what is your name\" in voice_data:\n",
    "        assist_speech(\"My name is tuntun\")\n",
    "    if \"what time is it\" in voice_data:\n",
    "        assist_speech(ctime())\n",
    "    if 'search' in voice_data:\n",
    "        search = record_audio(\"What do you want to search for?\")\n",
    "        url = \"https://google.com/search?q=\" + search\n",
    "        webbrowser.get().open(url)\n",
    "        assist_speech(\"Here's the best I found for \" + search)\n",
    "    if 'find location' in voice_data:\n",
    "        location = record_audio(\"What is the location?\")\n",
    "        url = \"https://google.nl/maps/place/\" + location + '/&amp;'\n",
    "        webbrowser.get().open(url)\n",
    "        assist_speech(\"Here's the location \" +  location + \" you are searching for\")\n",
    "    if \"take notes\" in voice_data:\n",
    "        assist_speech(\"Opening file..\")\n",
    "        f = open(\"notes.txt\", \"a\")\n",
    "        assist_speech(\"What can I write for you?\")\n",
    "        voice_data1 = ''\n",
    "        while(1):\n",
    "            assist_speech(\"Writing..\")\n",
    "            data1 = input(voice_data1)\n",
    "            if(data1 == \"exit\" ):\n",
    "                f.close()\n",
    "                assist_speech(\"Writing done.\")\n",
    "                break\n",
    "            converter.setProperty('rate', 150) \n",
    "            converter.setProperty('volume', 0.7) \n",
    "            converter.say(data1) \n",
    "            converter.runAndWait() \n",
    "            f.write(\" \" + data1)\n",
    "    if 'Bye' in voice_data:\n",
    "        exit()"
   ]
  },
  {
   "cell_type": "code",
   "execution_count": null,
   "metadata": {},
   "outputs": [],
   "source": [
    "time.sleep(1)\n",
    "assist_speech('How can I help you?')\n",
    "while 1:\n",
    "    voice_data = record_audio()\n",
    "    respond(voice_data)"
   ]
  },
  {
   "cell_type": "code",
   "execution_count": null,
   "metadata": {},
   "outputs": [],
   "source": [
    "#f = open(\"notes.txt\", \"r\")"
   ]
  },
  {
   "cell_type": "code",
   "execution_count": null,
   "metadata": {},
   "outputs": [],
   "source": [
    "\n"
   ]
  },
  {
   "cell_type": "code",
   "execution_count": null,
   "metadata": {},
   "outputs": [],
   "source": []
  }
 ],
 "metadata": {
  "kernelspec": {
   "display_name": "Python 3",
   "language": "python",
   "name": "python3"
  },
  "language_info": {
   "codemirror_mode": {
    "name": "ipython",
    "version": 3
   },
   "file_extension": ".py",
   "mimetype": "text/x-python",
   "name": "python",
   "nbconvert_exporter": "python",
   "pygments_lexer": "ipython3",
   "version": "3.7.3"
  }
 },
 "nbformat": 4,
 "nbformat_minor": 2
}
